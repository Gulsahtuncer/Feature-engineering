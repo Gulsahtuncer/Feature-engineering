{
 "cells": [
  {
   "cell_type": "code",
   "execution_count": 1,
   "id": "9843f947",
   "metadata": {
    "_cell_guid": "b1076dfc-b9ad-4769-8c92-a6c4dae69d19",
    "_uuid": "8f2839f25d086af736a60e9eeb907d3b93b6e0e5",
    "execution": {
     "iopub.execute_input": "2024-06-23T07:16:48.478145Z",
     "iopub.status.busy": "2024-06-23T07:16:48.477557Z",
     "iopub.status.idle": "2024-06-23T07:16:51.629137Z",
     "shell.execute_reply": "2024-06-23T07:16:51.627873Z"
    },
    "papermill": {
     "duration": 3.165146,
     "end_time": "2024-06-23T07:16:51.632447",
     "exception": false,
     "start_time": "2024-06-23T07:16:48.467301",
     "status": "completed"
    },
    "tags": []
   },
   "outputs": [],
   "source": [
    "##Calling required libraries and objects \n",
    "import numpy as np\n",
    "import pandas as pd\n",
    "import seaborn as sns\n",
    "from matplotlib import pyplot as plt\n",
    "from sklearn.neighbors import LocalOutlierFactor\n",
    "\n",
    "\n",
    "#gerekli ayarlamaları yapma \n",
    "pd.set_option('display.max_columns', None)\n",
    "pd.set_option('display.max_rows', None)\n",
    "pd.set_option('display.float_format', lambda x: '%.3f' % x)\n",
    "pd.set_option('display.width', 500)"
   ]
  },
  {
   "cell_type": "code",
   "execution_count": 2,
   "id": "a1828416",
   "metadata": {
    "execution": {
     "iopub.execute_input": "2024-06-23T07:16:51.646992Z",
     "iopub.status.busy": "2024-06-23T07:16:51.646482Z",
     "iopub.status.idle": "2024-06-23T07:16:51.707556Z",
     "shell.execute_reply": "2024-06-23T07:16:51.705304Z"
    },
    "papermill": {
     "duration": 0.072325,
     "end_time": "2024-06-23T07:16:51.711260",
     "exception": false,
     "start_time": "2024-06-23T07:16:51.638935",
     "status": "completed"
    },
    "tags": []
   },
   "outputs": [
    {
     "data": {
      "text/html": [
       "<div>\n",
       "<style scoped>\n",
       "    .dataframe tbody tr th:only-of-type {\n",
       "        vertical-align: middle;\n",
       "    }\n",
       "\n",
       "    .dataframe tbody tr th {\n",
       "        vertical-align: top;\n",
       "    }\n",
       "\n",
       "    .dataframe thead th {\n",
       "        text-align: right;\n",
       "    }\n",
       "</style>\n",
       "<table border=\"1\" class=\"dataframe\">\n",
       "  <thead>\n",
       "    <tr style=\"text-align: right;\">\n",
       "      <th></th>\n",
       "      <th>PassengerId</th>\n",
       "      <th>Survived</th>\n",
       "      <th>Pclass</th>\n",
       "      <th>Name</th>\n",
       "      <th>Sex</th>\n",
       "      <th>Age</th>\n",
       "      <th>SibSp</th>\n",
       "      <th>Parch</th>\n",
       "      <th>Ticket</th>\n",
       "      <th>Fare</th>\n",
       "      <th>Cabin</th>\n",
       "      <th>Embarked</th>\n",
       "    </tr>\n",
       "  </thead>\n",
       "  <tbody>\n",
       "    <tr>\n",
       "      <th>0</th>\n",
       "      <td>1</td>\n",
       "      <td>0</td>\n",
       "      <td>3</td>\n",
       "      <td>Braund, Mr. Owen Harris</td>\n",
       "      <td>male</td>\n",
       "      <td>22.000</td>\n",
       "      <td>1</td>\n",
       "      <td>0</td>\n",
       "      <td>A/5 21171</td>\n",
       "      <td>7.250</td>\n",
       "      <td>NaN</td>\n",
       "      <td>S</td>\n",
       "    </tr>\n",
       "    <tr>\n",
       "      <th>1</th>\n",
       "      <td>2</td>\n",
       "      <td>1</td>\n",
       "      <td>1</td>\n",
       "      <td>Cumings, Mrs. John Bradley (Florence Briggs Th...</td>\n",
       "      <td>female</td>\n",
       "      <td>38.000</td>\n",
       "      <td>1</td>\n",
       "      <td>0</td>\n",
       "      <td>PC 17599</td>\n",
       "      <td>71.283</td>\n",
       "      <td>C85</td>\n",
       "      <td>C</td>\n",
       "    </tr>\n",
       "    <tr>\n",
       "      <th>2</th>\n",
       "      <td>3</td>\n",
       "      <td>1</td>\n",
       "      <td>3</td>\n",
       "      <td>Heikkinen, Miss. Laina</td>\n",
       "      <td>female</td>\n",
       "      <td>26.000</td>\n",
       "      <td>0</td>\n",
       "      <td>0</td>\n",
       "      <td>STON/O2. 3101282</td>\n",
       "      <td>7.925</td>\n",
       "      <td>NaN</td>\n",
       "      <td>S</td>\n",
       "    </tr>\n",
       "    <tr>\n",
       "      <th>3</th>\n",
       "      <td>4</td>\n",
       "      <td>1</td>\n",
       "      <td>1</td>\n",
       "      <td>Futrelle, Mrs. Jacques Heath (Lily May Peel)</td>\n",
       "      <td>female</td>\n",
       "      <td>35.000</td>\n",
       "      <td>1</td>\n",
       "      <td>0</td>\n",
       "      <td>113803</td>\n",
       "      <td>53.100</td>\n",
       "      <td>C123</td>\n",
       "      <td>S</td>\n",
       "    </tr>\n",
       "    <tr>\n",
       "      <th>4</th>\n",
       "      <td>5</td>\n",
       "      <td>0</td>\n",
       "      <td>3</td>\n",
       "      <td>Allen, Mr. William Henry</td>\n",
       "      <td>male</td>\n",
       "      <td>35.000</td>\n",
       "      <td>0</td>\n",
       "      <td>0</td>\n",
       "      <td>373450</td>\n",
       "      <td>8.050</td>\n",
       "      <td>NaN</td>\n",
       "      <td>S</td>\n",
       "    </tr>\n",
       "  </tbody>\n",
       "</table>\n",
       "</div>"
      ],
      "text/plain": [
       "   PassengerId  Survived  Pclass                                               Name     Sex    Age  SibSp  Parch            Ticket   Fare Cabin Embarked\n",
       "0            1         0       3                            Braund, Mr. Owen Harris    male 22.000      1      0         A/5 21171  7.250   NaN        S\n",
       "1            2         1       1  Cumings, Mrs. John Bradley (Florence Briggs Th...  female 38.000      1      0          PC 17599 71.283   C85        C\n",
       "2            3         1       3                             Heikkinen, Miss. Laina  female 26.000      0      0  STON/O2. 3101282  7.925   NaN        S\n",
       "3            4         1       1       Futrelle, Mrs. Jacques Heath (Lily May Peel)  female 35.000      1      0            113803 53.100  C123        S\n",
       "4            5         0       3                           Allen, Mr. William Henry    male 35.000      0      0            373450  8.050   NaN        S"
      ]
     },
     "execution_count": 2,
     "metadata": {},
     "output_type": "execute_result"
    }
   ],
   "source": [
    "#reading data set\n",
    "df = pd.read_csv(\"/kaggle/input/titanic/titanic.csv\")\n",
    "df.head()"
   ]
  },
  {
   "cell_type": "code",
   "execution_count": 3,
   "id": "50304eb2",
   "metadata": {
    "execution": {
     "iopub.execute_input": "2024-06-23T07:16:51.727897Z",
     "iopub.status.busy": "2024-06-23T07:16:51.727512Z",
     "iopub.status.idle": "2024-06-23T07:16:51.999000Z",
     "shell.execute_reply": "2024-06-23T07:16:51.997537Z"
    },
    "papermill": {
     "duration": 0.282638,
     "end_time": "2024-06-23T07:16:52.001506",
     "exception": false,
     "start_time": "2024-06-23T07:16:51.718868",
     "status": "completed"
    },
    "tags": []
   },
   "outputs": [
    {
     "data": {
      "image/png": "[encoded data removed]",
      "text/plain": [
       "<Figure size 640x480 with 1 Axes>"
      ]
     },
     "metadata": {},
     "output_type": "display_data"
    }
   ],
   "source": [
    "#Observing outliers with boxplot graph \n",
    "sns.boxplot(x=df[\"Age\"]);"
   ]
  },
  {
   "cell_type": "code",
   "execution_count": 4,
   "id": "018773e0",
   "metadata": {
    "execution": {
     "iopub.execute_input": "2024-06-23T07:16:52.016176Z",
     "iopub.status.busy": "2024-06-23T07:16:52.015808Z",
     "iopub.status.idle": "2024-06-23T07:16:52.027224Z",
     "shell.execute_reply": "2024-06-23T07:16:52.025821Z"
    },
    "papermill": {
     "duration": 0.021936,
     "end_time": "2024-06-23T07:16:52.030051",
     "exception": false,
     "start_time": "2024-06-23T07:16:52.008115",
     "status": "completed"
    },
    "tags": []
   },
   "outputs": [],
   "source": [
    "#We write a function to calculate the lower limit and upper limit\n",
    "def outlier_thresholds(dataframe, col_name, q1=0.25, q3=0.75): \n",
    "    quartile1 = dataframe[col_name].quantile(q1) #Q1 value calculation\n",
    "    quartile3 = dataframe[col_name].quantile(q3) #Q3 value calculation \n",
    "    interquartile_range = quartile3 - quartile1 #IQR calculation\n",
    "    up_limit = quartile3 + 1.5 * interquartile_range #determination of the upper limit\n",
    "    low_limit = quartile1 - 1.5 * interquartile_range #determination of the lower limit\n",
    "    return low_limit, up_limit\n",
    "\n",
    "\n",
    "#Let's use our function\n",
    "low, up = outlier_thresholds(df, \"Age\") #we set the lower and upper limit"
   ]
  },
  {
   "cell_type": "code",
   "execution_count": 5,
   "id": "05b7cd59",
   "metadata": {
    "execution": {
     "iopub.execute_input": "2024-06-23T07:16:52.046790Z",
     "iopub.status.busy": "2024-06-23T07:16:52.046383Z",
     "iopub.status.idle": "2024-06-23T07:16:52.070194Z",
     "shell.execute_reply": "2024-06-23T07:16:52.068340Z"
    },
    "papermill": {
     "duration": 0.03594,
     "end_time": "2024-06-23T07:16:52.072936",
     "exception": false,
     "start_time": "2024-06-23T07:16:52.036996",
     "status": "completed"
    },
    "tags": []
   },
   "outputs": [
    {
     "name": "stdout",
     "output_type": "stream",
     "text": [
      "    PassengerId  Survived  Pclass                                               Name     Sex    Age  SibSp  Parch    Ticket    Fare        Cabin Embarked\n",
      "1             2         1       1  Cumings, Mrs. John Bradley (Florence Briggs Th...  female 38.000      1      0  PC 17599  71.283          C85        C\n",
      "27           28         0       1                     Fortune, Mr. Charles Alexander    male 19.000      3      2     19950 263.000  C23 C25 C27        S\n",
      "31           32         1       1     Spencer, Mrs. William Augustus (Marie Eugenie)  female    NaN      1      0  PC 17569 146.521          B78        C\n",
      "34           35         0       1                            Meyer, Mr. Edgar Joseph    male 28.000      1      0  PC 17604  82.171          NaN        C\n",
      "52           53         1       1           Harper, Mrs. Henry Sleeper (Myna Haxtun)  female 49.000      1      0  PC 17572  76.729          D33        C\n"
     ]
    }
   ],
   "source": [
    "#accessing outliers\n",
    "def grab_outliers(dataframe, col_name, index=False):\n",
    "    low, up = outlier_thresholds(dataframe, col_name) #Determination of lower and upper limits\n",
    "    \n",
    "    ## If the number of observations is greater than 10, retrieve the first 5 observations\n",
    "    if dataframe[((dataframe[col_name] < low) | (dataframe[col_name] > up))].shape[0] > 10:\n",
    "        print(dataframe[((dataframe[col_name] < low) | (dataframe[col_name] > up))].head())\n",
    "    \n",
    "    #If not, bring it all.\n",
    "    else: \n",
    "        print(dataframe[((dataframe[col_name] < low) | (dataframe[col_name] > up))])\n",
    "\n",
    "    if index:\n",
    "        outlier_index = dataframe[((dataframe[col_name] < low) | (dataframe[col_name] > up))].index\n",
    "        return outlier_index\n",
    "    \n",
    "grab_outliers(df,\"Fare\")"
   ]
  },
  {
   "cell_type": "code",
   "execution_count": 6,
   "id": "3ee8d8c3",
   "metadata": {
    "execution": {
     "iopub.execute_input": "2024-06-23T07:16:52.087692Z",
     "iopub.status.busy": "2024-06-23T07:16:52.087258Z",
     "iopub.status.idle": "2024-06-23T07:16:52.105589Z",
     "shell.execute_reply": "2024-06-23T07:16:52.104292Z"
    },
    "papermill": {
     "duration": 0.028703,
     "end_time": "2024-06-23T07:16:52.108200",
     "exception": false,
     "start_time": "2024-06-23T07:16:52.079497",
     "status": "completed"
    },
    "tags": []
   },
   "outputs": [
    {
     "data": {
      "text/html": [
       "<div>\n",
       "<style scoped>\n",
       "    .dataframe tbody tr th:only-of-type {\n",
       "        vertical-align: middle;\n",
       "    }\n",
       "\n",
       "    .dataframe tbody tr th {\n",
       "        vertical-align: top;\n",
       "    }\n",
       "\n",
       "    .dataframe thead th {\n",
       "        text-align: right;\n",
       "    }\n",
       "</style>\n",
       "<table border=\"1\" class=\"dataframe\">\n",
       "  <thead>\n",
       "    <tr style=\"text-align: right;\">\n",
       "      <th></th>\n",
       "      <th>PassengerId</th>\n",
       "      <th>Survived</th>\n",
       "      <th>Pclass</th>\n",
       "      <th>Name</th>\n",
       "      <th>Sex</th>\n",
       "      <th>Age</th>\n",
       "      <th>SibSp</th>\n",
       "      <th>Parch</th>\n",
       "      <th>Ticket</th>\n",
       "      <th>Fare</th>\n",
       "      <th>Cabin</th>\n",
       "      <th>Embarked</th>\n",
       "    </tr>\n",
       "  </thead>\n",
       "  <tbody>\n",
       "    <tr>\n",
       "      <th>33</th>\n",
       "      <td>34</td>\n",
       "      <td>0</td>\n",
       "      <td>2</td>\n",
       "      <td>Wheadon, Mr. Edward H</td>\n",
       "      <td>male</td>\n",
       "      <td>66.000</td>\n",
       "      <td>0</td>\n",
       "      <td>0</td>\n",
       "      <td>C.A. 24579</td>\n",
       "      <td>10.500</td>\n",
       "      <td>NaN</td>\n",
       "      <td>S</td>\n",
       "    </tr>\n",
       "    <tr>\n",
       "      <th>54</th>\n",
       "      <td>55</td>\n",
       "      <td>0</td>\n",
       "      <td>1</td>\n",
       "      <td>Ostby, Mr. Engelhart Cornelius</td>\n",
       "      <td>male</td>\n",
       "      <td>65.000</td>\n",
       "      <td>0</td>\n",
       "      <td>1</td>\n",
       "      <td>113509</td>\n",
       "      <td>61.979</td>\n",
       "      <td>B30</td>\n",
       "      <td>C</td>\n",
       "    </tr>\n",
       "    <tr>\n",
       "      <th>96</th>\n",
       "      <td>97</td>\n",
       "      <td>0</td>\n",
       "      <td>1</td>\n",
       "      <td>Goldschmidt, Mr. George B</td>\n",
       "      <td>male</td>\n",
       "      <td>71.000</td>\n",
       "      <td>0</td>\n",
       "      <td>0</td>\n",
       "      <td>PC 17754</td>\n",
       "      <td>34.654</td>\n",
       "      <td>A5</td>\n",
       "      <td>C</td>\n",
       "    </tr>\n",
       "    <tr>\n",
       "      <th>116</th>\n",
       "      <td>117</td>\n",
       "      <td>0</td>\n",
       "      <td>3</td>\n",
       "      <td>Connors, Mr. Patrick</td>\n",
       "      <td>male</td>\n",
       "      <td>70.500</td>\n",
       "      <td>0</td>\n",
       "      <td>0</td>\n",
       "      <td>370369</td>\n",
       "      <td>7.750</td>\n",
       "      <td>NaN</td>\n",
       "      <td>Q</td>\n",
       "    </tr>\n",
       "    <tr>\n",
       "      <th>280</th>\n",
       "      <td>281</td>\n",
       "      <td>0</td>\n",
       "      <td>3</td>\n",
       "      <td>Duane, Mr. Frank</td>\n",
       "      <td>male</td>\n",
       "      <td>65.000</td>\n",
       "      <td>0</td>\n",
       "      <td>0</td>\n",
       "      <td>336439</td>\n",
       "      <td>7.750</td>\n",
       "      <td>NaN</td>\n",
       "      <td>Q</td>\n",
       "    </tr>\n",
       "    <tr>\n",
       "      <th>456</th>\n",
       "      <td>457</td>\n",
       "      <td>0</td>\n",
       "      <td>1</td>\n",
       "      <td>Millet, Mr. Francis Davis</td>\n",
       "      <td>male</td>\n",
       "      <td>65.000</td>\n",
       "      <td>0</td>\n",
       "      <td>0</td>\n",
       "      <td>13509</td>\n",
       "      <td>26.550</td>\n",
       "      <td>E38</td>\n",
       "      <td>S</td>\n",
       "    </tr>\n",
       "    <tr>\n",
       "      <th>493</th>\n",
       "      <td>494</td>\n",
       "      <td>0</td>\n",
       "      <td>1</td>\n",
       "      <td>Artagaveytia, Mr. Ramon</td>\n",
       "      <td>male</td>\n",
       "      <td>71.000</td>\n",
       "      <td>0</td>\n",
       "      <td>0</td>\n",
       "      <td>PC 17609</td>\n",
       "      <td>49.504</td>\n",
       "      <td>NaN</td>\n",
       "      <td>C</td>\n",
       "    </tr>\n",
       "    <tr>\n",
       "      <th>630</th>\n",
       "      <td>631</td>\n",
       "      <td>1</td>\n",
       "      <td>1</td>\n",
       "      <td>Barkworth, Mr. Algernon Henry Wilson</td>\n",
       "      <td>male</td>\n",
       "      <td>80.000</td>\n",
       "      <td>0</td>\n",
       "      <td>0</td>\n",
       "      <td>27042</td>\n",
       "      <td>30.000</td>\n",
       "      <td>A23</td>\n",
       "      <td>S</td>\n",
       "    </tr>\n",
       "    <tr>\n",
       "      <th>672</th>\n",
       "      <td>673</td>\n",
       "      <td>0</td>\n",
       "      <td>2</td>\n",
       "      <td>Mitchell, Mr. Henry Michael</td>\n",
       "      <td>male</td>\n",
       "      <td>70.000</td>\n",
       "      <td>0</td>\n",
       "      <td>0</td>\n",
       "      <td>C.A. 24580</td>\n",
       "      <td>10.500</td>\n",
       "      <td>NaN</td>\n",
       "      <td>S</td>\n",
       "    </tr>\n",
       "    <tr>\n",
       "      <th>745</th>\n",
       "      <td>746</td>\n",
       "      <td>0</td>\n",
       "      <td>1</td>\n",
       "      <td>Crosby, Capt. Edward Gifford</td>\n",
       "      <td>male</td>\n",
       "      <td>70.000</td>\n",
       "      <td>1</td>\n",
       "      <td>1</td>\n",
       "      <td>WE/P 5735</td>\n",
       "      <td>71.000</td>\n",
       "      <td>B22</td>\n",
       "      <td>S</td>\n",
       "    </tr>\n",
       "    <tr>\n",
       "      <th>851</th>\n",
       "      <td>852</td>\n",
       "      <td>0</td>\n",
       "      <td>3</td>\n",
       "      <td>Svensson, Mr. Johan</td>\n",
       "      <td>male</td>\n",
       "      <td>74.000</td>\n",
       "      <td>0</td>\n",
       "      <td>0</td>\n",
       "      <td>347060</td>\n",
       "      <td>7.775</td>\n",
       "      <td>NaN</td>\n",
       "      <td>S</td>\n",
       "    </tr>\n",
       "  </tbody>\n",
       "</table>\n",
       "</div>"
      ],
      "text/plain": [
       "     PassengerId  Survived  Pclass                                  Name   Sex    Age  SibSp  Parch      Ticket   Fare Cabin Embarked\n",
       "33            34         0       2                 Wheadon, Mr. Edward H  male 66.000      0      0  C.A. 24579 10.500   NaN        S\n",
       "54            55         0       1        Ostby, Mr. Engelhart Cornelius  male 65.000      0      1      113509 61.979   B30        C\n",
       "96            97         0       1             Goldschmidt, Mr. George B  male 71.000      0      0    PC 17754 34.654    A5        C\n",
       "116          117         0       3                  Connors, Mr. Patrick  male 70.500      0      0      370369  7.750   NaN        Q\n",
       "280          281         0       3                      Duane, Mr. Frank  male 65.000      0      0      336439  7.750   NaN        Q\n",
       "456          457         0       1             Millet, Mr. Francis Davis  male 65.000      0      0       13509 26.550   E38        S\n",
       "493          494         0       1               Artagaveytia, Mr. Ramon  male 71.000      0      0    PC 17609 49.504   NaN        C\n",
       "630          631         1       1  Barkworth, Mr. Algernon Henry Wilson  male 80.000      0      0       27042 30.000   A23        S\n",
       "672          673         0       2           Mitchell, Mr. Henry Michael  male 70.000      0      0  C.A. 24580 10.500   NaN        S\n",
       "745          746         0       1          Crosby, Capt. Edward Gifford  male 70.000      1      1   WE/P 5735 71.000   B22        S\n",
       "851          852         0       3                   Svensson, Mr. Johan  male 74.000      0      0      347060  7.775   NaN        S"
      ]
     },
     "execution_count": 6,
     "metadata": {},
     "output_type": "execute_result"
    }
   ],
   "source": [
    "df[(df[\"Age\"] < low) | (df[\"Age\"] > up)]"
   ]
  },
  {
   "cell_type": "code",
   "execution_count": 7,
   "id": "2f3bb8a0",
   "metadata": {
    "execution": {
     "iopub.execute_input": "2024-06-23T07:16:52.124829Z",
     "iopub.status.busy": "2024-06-23T07:16:52.124382Z",
     "iopub.status.idle": "2024-06-23T07:16:52.138005Z",
     "shell.execute_reply": "2024-06-23T07:16:52.136877Z"
    },
    "papermill": {
     "duration": 0.024955,
     "end_time": "2024-06-23T07:16:52.140683",
     "exception": false,
     "start_time": "2024-06-23T07:16:52.115728",
     "status": "completed"
    },
    "tags": []
   },
   "outputs": [
    {
     "data": {
      "text/plain": [
       "True"
      ]
     },
     "execution_count": 7,
     "metadata": {},
     "output_type": "execute_result"
    }
   ],
   "source": [
    "#Let's write a function to query whether the variable we selected in the data frame is an outlier.\n",
    "def check_outlier(dataframe, col_name):\n",
    "    low_limit, up_limit = outlier_thresholds(dataframe, col_name)\n",
    "    if dataframe[(dataframe[col_name] > up_limit) | (dataframe[col_name] < low_limit)].any(axis=None):\n",
    "        return True\n",
    "    else:\n",
    "        return False\n",
    "#function is to avoid repetition when we want to query for other variables \n",
    "\n",
    "check_outlier(df, \"Age\") #Let's see if there are outliers for the age variable"
   ]
  },
  {
   "cell_type": "code",
   "execution_count": 8,
   "id": "3b0fe07c",
   "metadata": {
    "execution": {
     "iopub.execute_input": "2024-06-23T07:16:52.157562Z",
     "iopub.status.busy": "2024-06-23T07:16:52.156967Z",
     "iopub.status.idle": "2024-06-23T07:16:52.177125Z",
     "shell.execute_reply": "2024-06-23T07:16:52.175999Z"
    },
    "papermill": {
     "duration": 0.031982,
     "end_time": "2024-06-23T07:16:52.179645",
     "exception": false,
     "start_time": "2024-06-23T07:16:52.147663",
     "status": "completed"
    },
    "tags": []
   },
   "outputs": [
    {
     "name": "stdout",
     "output_type": "stream",
     "text": [
      "Observations: 891\n",
      "Variables: 12\n",
      "cat_cols: 6\n",
      "num_cols: 3\n",
      "cat_but_car: 3\n",
      "num_but_cat: 4\n"
     ]
    }
   ],
   "source": [
    "#We use the gra_col_names function to specify variable types\n",
    "def grab_col_names(dataframe, cat_th=10, car_th=20):\n",
    "    \n",
    "    #variables that are categorical are selected \n",
    "    cat_cols = [col for col in dataframe.columns if dataframe[col].dtypes == \"O\"]\n",
    "    \n",
    "    #variables that are numeric but categorical are selected \n",
    "    #is categorical if the number of unique classes is less than 10 (open to interpretation)\n",
    "    num_but_cat = [col for col in dataframe.columns if dataframe[col].nunique() < cat_th and dataframe[col].dtypes != \"O\"]\n",
    "    \n",
    "    #select variables that appear categorical but are cardinal\n",
    "    #cardinal if the number of unique classes is more than 20\n",
    "    cat_but_car = [col for col in dataframe.columns if dataframe[col].nunique() > car_th and dataframe[col].dtypes == \"O\"]\n",
    "    \n",
    "    #add the categorical variables we captured \n",
    "    cat_cols = cat_cols + num_but_cat \n",
    "    \n",
    "    #we remove variables that appear categorical but are not categorical\n",
    "    cat_cols = [col for col in cat_cols if col not in cat_but_car]\n",
    "    \n",
    "    #we select numeric variables\n",
    "    num_cols = [col for col in dataframe.columns if dataframe[col].dtypes != \"O\"]\n",
    "    #we remove those that appear numerical but are categorical \n",
    "    num_cols = [col for col in num_cols if col not in num_but_cat]\n",
    "\n",
    "    print(f\"Observations: {dataframe.shape[0]}\")\n",
    "    print(f\"Variables: {dataframe.shape[1]}\")\n",
    "    print(f'cat_cols: {len(cat_cols)}')\n",
    "    print(f'num_cols: {len(num_cols)}')\n",
    "    print(f'cat_but_car: {len(cat_but_car)}')\n",
    "    print(f'num_but_cat: {len(num_but_cat)}')\n",
    "    return cat_cols, num_cols, cat_but_car\n",
    "\n",
    "cat_cols, num_cols, cat_but_car = grab_col_names(df) #will introduce variables that are categorical, numeric and cardinal"
   ]
  },
  {
   "cell_type": "code",
   "execution_count": 9,
   "id": "57889d48",
   "metadata": {
    "execution": {
     "iopub.execute_input": "2024-06-23T07:16:52.195657Z",
     "iopub.status.busy": "2024-06-23T07:16:52.195246Z",
     "iopub.status.idle": "2024-06-23T07:16:52.201972Z",
     "shell.execute_reply": "2024-06-23T07:16:52.200879Z"
    },
    "papermill": {
     "duration": 0.017568,
     "end_time": "2024-06-23T07:16:52.204364",
     "exception": false,
     "start_time": "2024-06-23T07:16:52.186796",
     "status": "completed"
    },
    "tags": []
   },
   "outputs": [
    {
     "data": {
      "text/plain": [
       "['PassengerId', 'Age', 'Fare']"
      ]
     },
     "execution_count": 9,
     "metadata": {},
     "output_type": "execute_result"
    }
   ],
   "source": [
    "num_cols"
   ]
  },
  {
   "cell_type": "code",
   "execution_count": 10,
   "id": "24be7229",
   "metadata": {
    "execution": {
     "iopub.execute_input": "2024-06-23T07:16:52.220591Z",
     "iopub.status.busy": "2024-06-23T07:16:52.220173Z",
     "iopub.status.idle": "2024-06-23T07:16:52.227800Z",
     "shell.execute_reply": "2024-06-23T07:16:52.226426Z"
    },
    "papermill": {
     "duration": 0.018544,
     "end_time": "2024-06-23T07:16:52.230280",
     "exception": false,
     "start_time": "2024-06-23T07:16:52.211736",
     "status": "completed"
    },
    "tags": []
   },
   "outputs": [
    {
     "data": {
      "text/plain": [
       "['Age', 'Fare']"
      ]
     },
     "execution_count": 10,
     "metadata": {},
     "output_type": "execute_result"
    }
   ],
   "source": [
    "#Let's remove the PassengerId variable because it does not provide any meaningful information \n",
    "num_cols = [col for col in num_cols if col not in \"PassengerId\"]\n",
    "num_cols"
   ]
  },
  {
   "cell_type": "code",
   "execution_count": 11,
   "id": "c264ae47",
   "metadata": {
    "execution": {
     "iopub.execute_input": "2024-06-23T07:16:52.246295Z",
     "iopub.status.busy": "2024-06-23T07:16:52.245919Z",
     "iopub.status.idle": "2024-06-23T07:16:52.261376Z",
     "shell.execute_reply": "2024-06-23T07:16:52.259899Z"
    },
    "papermill": {
     "duration": 0.027141,
     "end_time": "2024-06-23T07:16:52.264678",
     "exception": false,
     "start_time": "2024-06-23T07:16:52.237537",
     "status": "completed"
    },
    "tags": []
   },
   "outputs": [
    {
     "name": "stdout",
     "output_type": "stream",
     "text": [
      "Age True\n",
      "Fare True\n"
     ]
    }
   ],
   "source": [
    "#We query if there is an outlier\n",
    "for col in num_cols:\n",
    "    print(col, check_outlier(df, col))"
   ]
  },
  {
   "cell_type": "code",
   "execution_count": 12,
   "id": "ede0e497",
   "metadata": {
    "execution": {
     "iopub.execute_input": "2024-06-23T07:16:52.284126Z",
     "iopub.status.busy": "2024-06-23T07:16:52.283338Z",
     "iopub.status.idle": "2024-06-23T07:16:52.290384Z",
     "shell.execute_reply": "2024-06-23T07:16:52.288913Z"
    },
    "papermill": {
     "duration": 0.020048,
     "end_time": "2024-06-23T07:16:52.293868",
     "exception": false,
     "start_time": "2024-06-23T07:16:52.273820",
     "status": "completed"
    },
    "tags": []
   },
   "outputs": [],
   "source": [
    "# suppressing outliers\n",
    "def replace_with_thresholds(dataframe, variable):  \n",
    "    # lower and upper limit calculation \n",
    "    low_limit, up_limit = outlier_thresholds(dataframe, variable)\n",
    "     # substitute the lower limit for those less than the lower limit \n",
    "    dataframe.loc[(dataframe[variable] < low_limit), variable] = low_limit\n",
    "    # assign the upper limit instead of those greater than the upper limit \n",
    "    dataframe.loc[(dataframe[variable] > up_limit), variable] = up_limit "
   ]
  },
  {
   "cell_type": "code",
   "execution_count": 13,
   "id": "d8ed509b",
   "metadata": {
    "execution": {
     "iopub.execute_input": "2024-06-23T07:16:52.310915Z",
     "iopub.status.busy": "2024-06-23T07:16:52.310547Z",
     "iopub.status.idle": "2024-06-23T07:16:52.325033Z",
     "shell.execute_reply": "2024-06-23T07:16:52.323414Z"
    },
    "papermill": {
     "duration": 0.026735,
     "end_time": "2024-06-23T07:16:52.328068",
     "exception": false,
     "start_time": "2024-06-23T07:16:52.301333",
     "status": "completed"
    },
    "tags": []
   },
   "outputs": [],
   "source": [
    "#Let's apply the function to the numeric variables in the data set.\n",
    "for col in num_cols:\n",
    "    replace_with_thresholds(df, col)"
   ]
  },
  {
   "cell_type": "code",
   "execution_count": 14,
   "id": "1cce1adb",
   "metadata": {
    "execution": {
     "iopub.execute_input": "2024-06-23T07:16:52.344601Z",
     "iopub.status.busy": "2024-06-23T07:16:52.344193Z",
     "iopub.status.idle": "2024-06-23T07:16:52.359347Z",
     "shell.execute_reply": "2024-06-23T07:16:52.358096Z"
    },
    "papermill": {
     "duration": 0.027082,
     "end_time": "2024-06-23T07:16:52.362615",
     "exception": false,
     "start_time": "2024-06-23T07:16:52.335533",
     "status": "completed"
    },
    "tags": []
   },
   "outputs": [
    {
     "name": "stdout",
     "output_type": "stream",
     "text": [
      "Age False\n",
      "Fare False\n"
     ]
    }
   ],
   "source": [
    "#let's check for outliers in the dataset\n",
    "for col in num_cols:\n",
    "    print(col, check_outlier(df, col))"
   ]
  },
  {
   "cell_type": "markdown",
   "id": "b09f6693",
   "metadata": {
    "papermill": {
     "duration": 0.008207,
     "end_time": "2024-06-23T07:16:52.379201",
     "exception": false,
     "start_time": "2024-06-23T07:16:52.370994",
     "status": "completed"
    },
    "tags": []
   },
   "source": [
    "# **Local Outlier Factor**"
   ]
  },
  {
   "cell_type": "markdown",
   "id": "5c8f134e",
   "metadata": {
    "papermill": {
     "duration": 0.007228,
     "end_time": "2024-06-23T07:16:52.394888",
     "exception": false,
     "start_time": "2024-06-23T07:16:52.387660",
     "status": "completed"
    },
    "tags": []
   },
   "source": [
    "****"
   ]
  },
  {
   "cell_type": "code",
   "execution_count": 15,
   "id": "45230fd4",
   "metadata": {
    "execution": {
     "iopub.execute_input": "2024-06-23T07:16:52.411597Z",
     "iopub.status.busy": "2024-06-23T07:16:52.411131Z",
     "iopub.status.idle": "2024-06-23T07:16:53.363670Z",
     "shell.execute_reply": "2024-06-23T07:16:53.362491Z"
    },
    "papermill": {
     "duration": 0.964106,
     "end_time": "2024-06-23T07:16:53.366460",
     "exception": false,
     "start_time": "2024-06-23T07:16:52.402354",
     "status": "completed"
    },
    "tags": []
   },
   "outputs": [
    {
     "data": {
      "text/html": [
       "<div>\n",
       "<style scoped>\n",
       "    .dataframe tbody tr th:only-of-type {\n",
       "        vertical-align: middle;\n",
       "    }\n",
       "\n",
       "    .dataframe tbody tr th {\n",
       "        vertical-align: top;\n",
       "    }\n",
       "\n",
       "    .dataframe thead th {\n",
       "        text-align: right;\n",
       "    }\n",
       "</style>\n",
       "<table border=\"1\" class=\"dataframe\">\n",
       "  <thead>\n",
       "    <tr style=\"text-align: right;\">\n",
       "      <th></th>\n",
       "      <th>carat</th>\n",
       "      <th>depth</th>\n",
       "      <th>table</th>\n",
       "      <th>price</th>\n",
       "      <th>x</th>\n",
       "      <th>y</th>\n",
       "      <th>z</th>\n",
       "    </tr>\n",
       "  </thead>\n",
       "  <tbody>\n",
       "    <tr>\n",
       "      <th>0</th>\n",
       "      <td>0.230</td>\n",
       "      <td>61.500</td>\n",
       "      <td>55.000</td>\n",
       "      <td>326</td>\n",
       "      <td>3.950</td>\n",
       "      <td>3.980</td>\n",
       "      <td>2.430</td>\n",
       "    </tr>\n",
       "    <tr>\n",
       "      <th>1</th>\n",
       "      <td>0.210</td>\n",
       "      <td>59.800</td>\n",
       "      <td>61.000</td>\n",
       "      <td>326</td>\n",
       "      <td>3.890</td>\n",
       "      <td>3.840</td>\n",
       "      <td>2.310</td>\n",
       "    </tr>\n",
       "    <tr>\n",
       "      <th>2</th>\n",
       "      <td>0.230</td>\n",
       "      <td>56.900</td>\n",
       "      <td>65.000</td>\n",
       "      <td>327</td>\n",
       "      <td>4.050</td>\n",
       "      <td>4.070</td>\n",
       "      <td>2.310</td>\n",
       "    </tr>\n",
       "    <tr>\n",
       "      <th>3</th>\n",
       "      <td>0.290</td>\n",
       "      <td>62.400</td>\n",
       "      <td>58.000</td>\n",
       "      <td>334</td>\n",
       "      <td>4.200</td>\n",
       "      <td>4.230</td>\n",
       "      <td>2.630</td>\n",
       "    </tr>\n",
       "    <tr>\n",
       "      <th>4</th>\n",
       "      <td>0.310</td>\n",
       "      <td>63.300</td>\n",
       "      <td>58.000</td>\n",
       "      <td>335</td>\n",
       "      <td>4.340</td>\n",
       "      <td>4.350</td>\n",
       "      <td>2.750</td>\n",
       "    </tr>\n",
       "  </tbody>\n",
       "</table>\n",
       "</div>"
      ],
      "text/plain": [
       "   carat  depth  table  price     x     y     z\n",
       "0  0.230 61.500 55.000    326 3.950 3.980 2.430\n",
       "1  0.210 59.800 61.000    326 3.890 3.840 2.310\n",
       "2  0.230 56.900 65.000    327 4.050 4.070 2.310\n",
       "3  0.290 62.400 58.000    334 4.200 4.230 2.630\n",
       "4  0.310 63.300 58.000    335 4.340 4.350 2.750"
      ]
     },
     "execution_count": 15,
     "metadata": {},
     "output_type": "execute_result"
    }
   ],
   "source": [
    "df = sns.load_dataset('diamonds') #loading the data set \n",
    "df = df.select_dtypes(include=['float64', 'int64']) #selecting numeric variables \n",
    "df = df.dropna() #clear missing data \n",
    "df.head()"
   ]
  },
  {
   "cell_type": "code",
   "execution_count": 16,
   "id": "9fee9c73",
   "metadata": {
    "execution": {
     "iopub.execute_input": "2024-06-23T07:16:53.383274Z",
     "iopub.status.busy": "2024-06-23T07:16:53.382891Z",
     "iopub.status.idle": "2024-06-23T07:16:53.421960Z",
     "shell.execute_reply": "2024-06-23T07:16:53.420655Z"
    },
    "papermill": {
     "duration": 0.050227,
     "end_time": "2024-06-23T07:16:53.424382",
     "exception": false,
     "start_time": "2024-06-23T07:16:53.374155",
     "status": "completed"
    },
    "tags": []
   },
   "outputs": [
    {
     "name": "stdout",
     "output_type": "stream",
     "text": [
      "carat True\n",
      "depth True\n",
      "table True\n",
      "price True\n",
      "x True\n",
      "y True\n",
      "z True\n"
     ]
    }
   ],
   "source": [
    "#query for outliers\n",
    "for col in df.columns:\n",
    "    print(col, check_outlier(df, col))"
   ]
  },
  {
   "cell_type": "code",
   "execution_count": 17,
   "id": "acb4a953",
   "metadata": {
    "execution": {
     "iopub.execute_input": "2024-06-23T07:16:53.443054Z",
     "iopub.status.busy": "2024-06-23T07:16:53.442677Z",
     "iopub.status.idle": "2024-06-23T07:16:53.932313Z",
     "shell.execute_reply": "2024-06-23T07:16:53.930494Z"
    },
    "papermill": {
     "duration": 0.502868,
     "end_time": "2024-06-23T07:16:53.935058",
     "exception": false,
     "start_time": "2024-06-23T07:16:53.432190",
     "status": "completed"
    },
    "tags": []
   },
   "outputs": [
    {
     "data": {
      "text/plain": [
       "array([-1.58352526, -1.59732899, -1.62278873, -1.33002541, -1.30712521])"
      ]
     },
     "execution_count": 17,
     "metadata": {},
     "output_type": "execute_result"
    }
   ],
   "source": [
    "#Create and fit LOF object  \n",
    "clf = LocalOutlierFactor(n_neighbors=20)\n",
    "clf.fit_predict(df)\n",
    "\n",
    "#creating scores\n",
    "df_scores = clf.negative_outlier_factor_\n",
    "df_scores[0:5]"
   ]
  },
  {
   "cell_type": "code",
   "execution_count": 18,
   "id": "9a2a39c8",
   "metadata": {
    "execution": {
     "iopub.execute_input": "2024-06-23T07:16:53.955007Z",
     "iopub.status.busy": "2024-06-23T07:16:53.954632Z",
     "iopub.status.idle": "2024-06-23T07:16:54.354463Z",
     "shell.execute_reply": "2024-06-23T07:16:54.352732Z"
    },
    "papermill": {
     "duration": 0.414374,
     "end_time": "2024-06-23T07:16:54.358583",
     "exception": false,
     "start_time": "2024-06-23T07:16:53.944209",
     "status": "completed"
    },
    "tags": []
   },
   "outputs": [
    {
     "data": {
      "image/png": "[encoded data removed]",
      "text/plain": [
       "<Figure size 640x480 with 1 Axes>"
      ]
     },
     "metadata": {},
     "output_type": "display_data"
    }
   ],
   "source": [
    "#graphing to determine the threshold value\n",
    "scores = pd.DataFrame(np.sort(df_scores))\n",
    "scores.plot(stacked=True, xlim=[0, 50], style='.-');"
   ]
  },
  {
   "cell_type": "code",
   "execution_count": 19,
   "id": "6cce12ed",
   "metadata": {
    "execution": {
     "iopub.execute_input": "2024-06-23T07:16:54.381608Z",
     "iopub.status.busy": "2024-06-23T07:16:54.381170Z",
     "iopub.status.idle": "2024-06-23T07:16:54.393743Z",
     "shell.execute_reply": "2024-06-23T07:16:54.392450Z"
    },
    "papermill": {
     "duration": 0.025208,
     "end_time": "2024-06-23T07:16:54.396357",
     "exception": false,
     "start_time": "2024-06-23T07:16:54.371149",
     "status": "completed"
    },
    "tags": []
   },
   "outputs": [
    {
     "data": {
      "text/plain": [
       "-4.984151747711709"
      ]
     },
     "execution_count": 19,
     "metadata": {},
     "output_type": "execute_result"
    }
   ],
   "source": [
    "th = np.sort(df_scores)[3]\n",
    "th"
   ]
  },
  {
   "cell_type": "code",
   "execution_count": 20,
   "id": "d71fed45",
   "metadata": {
    "execution": {
     "iopub.execute_input": "2024-06-23T07:16:54.417523Z",
     "iopub.status.busy": "2024-06-23T07:16:54.417055Z",
     "iopub.status.idle": "2024-06-23T07:16:54.432888Z",
     "shell.execute_reply": "2024-06-23T07:16:54.431353Z"
    },
    "papermill": {
     "duration": 0.029508,
     "end_time": "2024-06-23T07:16:54.435343",
     "exception": false,
     "start_time": "2024-06-23T07:16:54.405835",
     "status": "completed"
    },
    "tags": []
   },
   "outputs": [
    {
     "data": {
      "text/html": [
       "<div>\n",
       "<style scoped>\n",
       "    .dataframe tbody tr th:only-of-type {\n",
       "        vertical-align: middle;\n",
       "    }\n",
       "\n",
       "    .dataframe tbody tr th {\n",
       "        vertical-align: top;\n",
       "    }\n",
       "\n",
       "    .dataframe thead th {\n",
       "        text-align: right;\n",
       "    }\n",
       "</style>\n",
       "<table border=\"1\" class=\"dataframe\">\n",
       "  <thead>\n",
       "    <tr style=\"text-align: right;\">\n",
       "      <th></th>\n",
       "      <th>carat</th>\n",
       "      <th>depth</th>\n",
       "      <th>table</th>\n",
       "      <th>price</th>\n",
       "      <th>x</th>\n",
       "      <th>y</th>\n",
       "      <th>z</th>\n",
       "    </tr>\n",
       "  </thead>\n",
       "  <tbody>\n",
       "    <tr>\n",
       "      <th>41918</th>\n",
       "      <td>1.030</td>\n",
       "      <td>78.200</td>\n",
       "      <td>54.000</td>\n",
       "      <td>1262</td>\n",
       "      <td>5.720</td>\n",
       "      <td>5.590</td>\n",
       "      <td>4.420</td>\n",
       "    </tr>\n",
       "    <tr>\n",
       "      <th>48410</th>\n",
       "      <td>0.510</td>\n",
       "      <td>61.800</td>\n",
       "      <td>54.700</td>\n",
       "      <td>1970</td>\n",
       "      <td>5.120</td>\n",
       "      <td>5.150</td>\n",
       "      <td>31.800</td>\n",
       "    </tr>\n",
       "    <tr>\n",
       "      <th>49189</th>\n",
       "      <td>0.510</td>\n",
       "      <td>61.800</td>\n",
       "      <td>55.000</td>\n",
       "      <td>2075</td>\n",
       "      <td>5.150</td>\n",
       "      <td>31.800</td>\n",
       "      <td>5.120</td>\n",
       "    </tr>\n",
       "  </tbody>\n",
       "</table>\n",
       "</div>"
      ],
      "text/plain": [
       "       carat  depth  table  price     x      y      z\n",
       "41918  1.030 78.200 54.000   1262 5.720  5.590  4.420\n",
       "48410  0.510 61.800 54.700   1970 5.120  5.150 31.800\n",
       "49189  0.510 61.800 55.000   2075 5.150 31.800  5.120"
      ]
     },
     "execution_count": 20,
     "metadata": {},
     "output_type": "execute_result"
    }
   ],
   "source": [
    "#select outliers based on threshold value\n",
    "df[df_scores < th]"
   ]
  },
  {
   "cell_type": "code",
   "execution_count": 21,
   "id": "9dec20f3",
   "metadata": {
    "execution": {
     "iopub.execute_input": "2024-06-23T07:16:54.455286Z",
     "iopub.status.busy": "2024-06-23T07:16:54.454794Z",
     "iopub.status.idle": "2024-06-23T07:16:54.505234Z",
     "shell.execute_reply": "2024-06-23T07:16:54.503881Z"
    },
    "papermill": {
     "duration": 0.064005,
     "end_time": "2024-06-23T07:16:54.508365",
     "exception": false,
     "start_time": "2024-06-23T07:16:54.444360",
     "status": "completed"
    },
    "tags": []
   },
   "outputs": [
    {
     "data": {
      "text/html": [
       "<div>\n",
       "<style scoped>\n",
       "    .dataframe tbody tr th:only-of-type {\n",
       "        vertical-align: middle;\n",
       "    }\n",
       "\n",
       "    .dataframe tbody tr th {\n",
       "        vertical-align: top;\n",
       "    }\n",
       "\n",
       "    .dataframe thead th {\n",
       "        text-align: right;\n",
       "    }\n",
       "</style>\n",
       "<table border=\"1\" class=\"dataframe\">\n",
       "  <thead>\n",
       "    <tr style=\"text-align: right;\">\n",
       "      <th></th>\n",
       "      <th>count</th>\n",
       "      <th>mean</th>\n",
       "      <th>std</th>\n",
       "      <th>min</th>\n",
       "      <th>1%</th>\n",
       "      <th>5%</th>\n",
       "      <th>50%</th>\n",
       "      <th>75%</th>\n",
       "      <th>90%</th>\n",
       "      <th>99%</th>\n",
       "      <th>max</th>\n",
       "    </tr>\n",
       "  </thead>\n",
       "  <tbody>\n",
       "    <tr>\n",
       "      <th>carat</th>\n",
       "      <td>53940.000</td>\n",
       "      <td>0.798</td>\n",
       "      <td>0.474</td>\n",
       "      <td>0.200</td>\n",
       "      <td>0.240</td>\n",
       "      <td>0.300</td>\n",
       "      <td>0.700</td>\n",
       "      <td>1.040</td>\n",
       "      <td>1.510</td>\n",
       "      <td>2.180</td>\n",
       "      <td>5.010</td>\n",
       "    </tr>\n",
       "    <tr>\n",
       "      <th>depth</th>\n",
       "      <td>53940.000</td>\n",
       "      <td>61.749</td>\n",
       "      <td>1.433</td>\n",
       "      <td>43.000</td>\n",
       "      <td>57.900</td>\n",
       "      <td>59.300</td>\n",
       "      <td>61.800</td>\n",
       "      <td>62.500</td>\n",
       "      <td>63.300</td>\n",
       "      <td>65.600</td>\n",
       "      <td>79.000</td>\n",
       "    </tr>\n",
       "    <tr>\n",
       "      <th>table</th>\n",
       "      <td>53940.000</td>\n",
       "      <td>57.457</td>\n",
       "      <td>2.234</td>\n",
       "      <td>43.000</td>\n",
       "      <td>53.000</td>\n",
       "      <td>54.000</td>\n",
       "      <td>57.000</td>\n",
       "      <td>59.000</td>\n",
       "      <td>60.000</td>\n",
       "      <td>64.000</td>\n",
       "      <td>95.000</td>\n",
       "    </tr>\n",
       "    <tr>\n",
       "      <th>price</th>\n",
       "      <td>53940.000</td>\n",
       "      <td>3932.800</td>\n",
       "      <td>3989.440</td>\n",
       "      <td>326.000</td>\n",
       "      <td>429.000</td>\n",
       "      <td>544.000</td>\n",
       "      <td>2401.000</td>\n",
       "      <td>5324.250</td>\n",
       "      <td>9821.000</td>\n",
       "      <td>17378.220</td>\n",
       "      <td>18823.000</td>\n",
       "    </tr>\n",
       "    <tr>\n",
       "      <th>x</th>\n",
       "      <td>53940.000</td>\n",
       "      <td>5.731</td>\n",
       "      <td>1.122</td>\n",
       "      <td>0.000</td>\n",
       "      <td>4.020</td>\n",
       "      <td>4.290</td>\n",
       "      <td>5.700</td>\n",
       "      <td>6.540</td>\n",
       "      <td>7.310</td>\n",
       "      <td>8.360</td>\n",
       "      <td>10.740</td>\n",
       "    </tr>\n",
       "    <tr>\n",
       "      <th>y</th>\n",
       "      <td>53940.000</td>\n",
       "      <td>5.735</td>\n",
       "      <td>1.142</td>\n",
       "      <td>0.000</td>\n",
       "      <td>4.040</td>\n",
       "      <td>4.300</td>\n",
       "      <td>5.710</td>\n",
       "      <td>6.540</td>\n",
       "      <td>7.300</td>\n",
       "      <td>8.340</td>\n",
       "      <td>58.900</td>\n",
       "    </tr>\n",
       "    <tr>\n",
       "      <th>z</th>\n",
       "      <td>53940.000</td>\n",
       "      <td>3.539</td>\n",
       "      <td>0.706</td>\n",
       "      <td>0.000</td>\n",
       "      <td>2.480</td>\n",
       "      <td>2.650</td>\n",
       "      <td>3.530</td>\n",
       "      <td>4.040</td>\n",
       "      <td>4.520</td>\n",
       "      <td>5.150</td>\n",
       "      <td>31.800</td>\n",
       "    </tr>\n",
       "  </tbody>\n",
       "</table>\n",
       "</div>"
      ],
      "text/plain": [
       "          count     mean      std     min      1%      5%      50%      75%      90%       99%       max\n",
       "carat 53940.000    0.798    0.474   0.200   0.240   0.300    0.700    1.040    1.510     2.180     5.010\n",
       "depth 53940.000   61.749    1.433  43.000  57.900  59.300   61.800   62.500   63.300    65.600    79.000\n",
       "table 53940.000   57.457    2.234  43.000  53.000  54.000   57.000   59.000   60.000    64.000    95.000\n",
       "price 53940.000 3932.800 3989.440 326.000 429.000 544.000 2401.000 5324.250 9821.000 17378.220 18823.000\n",
       "x     53940.000    5.731    1.122   0.000   4.020   4.290    5.700    6.540    7.310     8.360    10.740\n",
       "y     53940.000    5.735    1.142   0.000   4.040   4.300    5.710    6.540    7.300     8.340    58.900\n",
       "z     53940.000    3.539    0.706   0.000   2.480   2.650    3.530    4.040    4.520     5.150    31.800"
      ]
     },
     "execution_count": 21,
     "metadata": {},
     "output_type": "execute_result"
    }
   ],
   "source": [
    "df.describe([0.01, 0.05, 0.75, 0.90, 0.99]).T"
   ]
  },
  {
   "cell_type": "code",
   "execution_count": 22,
   "id": "f31b9b98",
   "metadata": {
    "execution": {
     "iopub.execute_input": "2024-06-23T07:16:54.529508Z",
     "iopub.status.busy": "2024-06-23T07:16:54.529113Z",
     "iopub.status.idle": "2024-06-23T07:16:54.542812Z",
     "shell.execute_reply": "2024-06-23T07:16:54.541187Z"
    },
    "papermill": {
     "duration": 0.027525,
     "end_time": "2024-06-23T07:16:54.545624",
     "exception": false,
     "start_time": "2024-06-23T07:16:54.518099",
     "status": "completed"
    },
    "tags": []
   },
   "outputs": [
    {
     "data": {
      "text/html": [
       "<div>\n",
       "<style scoped>\n",
       "    .dataframe tbody tr th:only-of-type {\n",
       "        vertical-align: middle;\n",
       "    }\n",
       "\n",
       "    .dataframe tbody tr th {\n",
       "        vertical-align: top;\n",
       "    }\n",
       "\n",
       "    .dataframe thead th {\n",
       "        text-align: right;\n",
       "    }\n",
       "</style>\n",
       "<table border=\"1\" class=\"dataframe\">\n",
       "  <thead>\n",
       "    <tr style=\"text-align: right;\">\n",
       "      <th></th>\n",
       "      <th>carat</th>\n",
       "      <th>depth</th>\n",
       "      <th>table</th>\n",
       "      <th>price</th>\n",
       "      <th>x</th>\n",
       "      <th>y</th>\n",
       "      <th>z</th>\n",
       "    </tr>\n",
       "  </thead>\n",
       "  <tbody>\n",
       "  </tbody>\n",
       "</table>\n",
       "</div>"
      ],
      "text/plain": [
       "Empty DataFrame\n",
       "Columns: [carat, depth, table, price, x, y, z]\n",
       "Index: []"
      ]
     },
     "execution_count": 22,
     "metadata": {},
     "output_type": "execute_result"
    }
   ],
   "source": [
    "#delete outliers \n",
    "df[df_scores < th].drop(axis=0, labels=df[df_scores < th].index)"
   ]
  }
 ],
 "metadata": {
  "kaggle": {
   "accelerator": "none",
   "dataSources": [
    {
     "datasetId": 5250168,
     "sourceId": 8744022,
     "sourceType": "datasetVersion"
    }
   ],
   "dockerImageVersionId": 30732,
   "isGpuEnabled": false,
   "isInternetEnabled": true,
   "language": "python",
   "sourceType": "notebook"
  },
  "kernelspec": {
   "display_name": "Python 3",
   "language": "python",
   "name": "python3"
  },
  "language_info": {
   "codemirror_mode": {
    "name": "ipython",
    "version": 3
   },
   "file_extension": ".py",
   "mimetype": "text/x-python",
   "name": "python",
   "nbconvert_exporter": "python",
   "pygments_lexer": "ipython3",
   "version": "3.10.13"
  },
  "papermill": {
   "default_parameters": {},
   "duration": 9.872816,
   "end_time": "2024-06-23T07:16:55.278954",
   "environment_variables": {},
   "exception": null,
   "input_path": "__notebook__.ipynb",
   "output_path": "__notebook__.ipynb",
   "parameters": {},
   "start_time": "2024-06-23T07:16:45.406138",
   "version": "2.5.0"
  }
 },
 "nbformat": 4,
 "nbformat_minor": 5
}
